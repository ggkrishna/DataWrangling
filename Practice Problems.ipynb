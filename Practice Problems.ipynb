{
 "cells": [
  {
   "cell_type": "raw",
   "metadata": {},
   "source": [
    "Q1. Fill in the blank with appropriate built in function to obtain output \"100$\" \n",
    "\n",
    "amount = 100\n",
    "currency = \"$\"\n",
    "print( ___(amount) + currency )"
   ]
  },
  {
   "cell_type": "raw",
   "metadata": {},
   "source": [
    "Q2. Write an user defined function that accepts a string that consists of both numbers and characters. It should separate characters from numerical digits and returns two values \n",
    "    (1) Sum of all the digits\n",
    "    (2) A string\n",
    "\n",
    "\n",
    "def splitter(str_n)\n",
    "    .....\n",
    "    .....\n",
    "    .....\n",
    "    return string_part, sum_of_all_digits\n",
    "\n",
    "input: \n",
    "    str_n=\"a1b2c3d4e5f6g7h8i9\"\n",
    "output: \n",
    "    \"abcdefghi\",45"
   ]
  },
  {
   "cell_type": "raw",
   "metadata": {},
   "source": [
    "Q3. Write a function that should accept a string and return dictionary as shown below\n",
    "\n",
    "input :\n",
    "    str_n=\"IISER Berhampur\"\n",
    "output:\n",
    "   {'I':2,'S':1,'E':2,'R':3,'E':1,'H':1,'A':1,'M':1,'P':1,'U':1}\n",
    "    "
   ]
  },
  {
   "cell_type": "raw",
   "metadata": {},
   "source": [
    "Q4. Fill blanks in the following lines of code to obtain\n",
    "    [(-4, 400), (-2, 500)] as output.\n",
    "\n",
    "x_axis=list(range(-10,12,2))\n",
    "y_axis=list(range(100,1200,100))\n",
    "points= list(___(x_axis,y_axis))  \n",
    "print(points[___:___])"
   ]
  },
  {
   "cell_type": "raw",
   "metadata": {},
   "source": [
    "Q5. Fill blanks in the following lines of code to obtain\n",
    "    [5, 6, 10, 20] as output.\n",
    "    \n",
    "x=[1,2,3,4,5,6]\n",
    "y=[10,20,30,40,50,60]\n",
    "z=x ___ y    \n",
    "print(z[ ___ : ___])"
   ]
  },
  {
   "cell_type": "raw",
   "metadata": {},
   "source": [
    "Q6. Fill in the blank with appropriate numpy method in the following code.\n",
    "\n",
    "\n",
    "import numpy as np\n",
    "np_arr=np.array([[1,2,3],[4,5,6]])\n",
    "for i in _____():\n",
    "    print(i)\n",
    "\n",
    "Output:\n",
    "    1\n",
    "    2\n",
    "    3\n",
    "    4\n",
    "    5\n",
    "    6"
   ]
  },
  {
   "cell_type": "raw",
   "metadata": {},
   "source": [
    "Q7. Use the following data and answer the following questions using numpy     library. Do not use loops. \n",
    "    \n",
    "\n",
    "# List of cities\n",
    "cities=[\"chennai\",\"Hyderabad\",\"Delhi\",\"Bhuwaneswar\", \"Kolkata\",\"Bangalore\"]\n",
    "# Temperature in centigrade \n",
    "temp=[30.04, 30.18, 31.36, 33.6 , 39.75, 35.73]\n",
    "\n",
    "\n",
    "1. Display city names with temperature less than 35C.\n",
    "2. Display temperatures of cities in Fahrenheit."
   ]
  },
  {
   "attachments": {
    "image.png": {
     "image/png": "[encoded data removed]"
    }
   },
   "cell_type": "markdown",
   "metadata": {},
   "source": [
    "Q8. Create a data frame as shown below and \n",
    "\n",
    "1. Disply first row using loc and iloc\n",
    "2. Display only X and Y columns for a,b rows using loc and iloc\n",
    "3. Create a new column X+Y with corresponding values\n",
    "\n",
    "![image.png](attachment:image.png)"
   ]
  },
  {
   "cell_type": "code",
   "execution_count": null,
   "metadata": {},
   "outputs": [],
   "source": []
  }
 ],
 "metadata": {
  "kernelspec": {
   "display_name": "Python 3",
   "language": "python",
   "name": "python3"
  },
  "language_info": {
   "codemirror_mode": {
    "name": "ipython",
    "version": 3
   },
   "file_extension": ".py",
   "mimetype": "text/x-python",
   "name": "python",
   "nbconvert_exporter": "python",
   "pygments_lexer": "ipython3",
   "version": "3.7.3"
  }
 },
 "nbformat": 4,
 "nbformat_minor": 4
}
