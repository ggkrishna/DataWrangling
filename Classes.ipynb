{
 "cells": [
  {
   "cell_type": "markdown",
   "metadata": {},
   "source": [
    "# Object -oriented programming\n",
    "\n",
    "+ Class  \n",
    "\n",
    "+ Object / Instance"
   ]
  },
  {
   "cell_type": "code",
   "execution_count": 1,
   "metadata": {
    "collapsed": true
   },
   "outputs": [],
   "source": [
    "dict1 ={'A':'Apple', 'B': 'Ball', 'C':'CAT'} # dict1  & dict 2 are two instance of dict class\n",
    "dict2 = {1:1,2:2,3:3,4:4}  "
   ]
  },
  {
   "cell_type": "code",
   "execution_count": 2,
   "metadata": {
    "collapsed": true
   },
   "outputs": [],
   "source": [
    "List1 = [1,2,3,4,5]   # List1 and List2 are two instances of list class\n",
    "List2 = ['a','b','c','d']"
   ]
  },
  {
   "cell_type": "code",
   "execution_count": 3,
   "metadata": {},
   "outputs": [
    {
     "name": "stdout",
     "output_type": "stream",
     "text": [
      "<class 'dict'> <class 'dict'> <class 'list'> <class 'list'>\n"
     ]
    }
   ],
   "source": [
    "print(type(dict1), type(dict2), type(List1), type(List2))   # "
   ]
  },
  {
   "cell_type": "markdown",
   "metadata": {},
   "source": [
    "## How do we create classes in python?"
   ]
  },
  {
   "cell_type": "code",
   "execution_count": 4,
   "metadata": {
    "collapsed": true
   },
   "outputs": [],
   "source": [
    "# syntax of a class \n",
    "# similar to function definition except def and class key words\n",
    "\n",
    "class Rectangle:   \n",
    "    pass"
   ]
  },
  {
   "cell_type": "code",
   "execution_count": 5,
   "metadata": {},
   "outputs": [
    {
     "name": "stdout",
     "output_type": "stream",
     "text": [
      "<class '__main__.Rectangle'>\n",
      "<class 'type'>\n"
     ]
    }
   ],
   "source": [
    "print(Rectangle)\n",
    "print(type(Rectangle))"
   ]
  },
  {
   "cell_type": "code",
   "execution_count": 7,
   "metadata": {
    "collapsed": true
   },
   "outputs": [],
   "source": [
    "# instantiating / creating object of a class\n",
    "rect = Rectangle()  # similar to calling a function\n",
    "rect1= Rectangle()\n",
    "rect2= Rectangle()"
   ]
  },
  {
   "cell_type": "code",
   "execution_count": 8,
   "metadata": {},
   "outputs": [
    {
     "name": "stdout",
     "output_type": "stream",
     "text": [
      "<class '__main__.Rectangle'>\n"
     ]
    }
   ],
   "source": [
    "print(type(rect))"
   ]
  },
  {
   "cell_type": "markdown",
   "metadata": {},
   "source": [
    "### isinstance(object, class)\n",
    "checks if the object class and given class are same"
   ]
  },
  {
   "cell_type": "code",
   "execution_count": 9,
   "metadata": {},
   "outputs": [
    {
     "name": "stdout",
     "output_type": "stream",
     "text": [
      "True\n"
     ]
    }
   ],
   "source": [
    "print(isinstance(rect, Rectangle))  # "
   ]
  },
  {
   "cell_type": "code",
   "execution_count": 10,
   "metadata": {},
   "outputs": [
    {
     "name": "stdout",
     "output_type": "stream",
     "text": [
      "False\n"
     ]
    }
   ],
   "source": [
    "print(isinstance(rect, dict))  #  "
   ]
  },
  {
   "cell_type": "code",
   "execution_count": 11,
   "metadata": {},
   "outputs": [
    {
     "name": "stdout",
     "output_type": "stream",
     "text": [
      "True\n"
     ]
    }
   ],
   "source": [
    "print(type(rect1)==type(rect2)==type(rect)) # they all belong to same class"
   ]
  },
  {
   "cell_type": "markdown",
   "metadata": {},
   "source": [
    "### different objects are created in different locations"
   ]
  },
  {
   "cell_type": "code",
   "execution_count": 12,
   "metadata": {},
   "outputs": [
    {
     "name": "stdout",
     "output_type": "stream",
     "text": [
      "4576439544\n",
      "4576439656\n",
      "4576439600\n"
     ]
    }
   ],
   "source": [
    "print(id(rect1))\n",
    "print(id(rect2))\n",
    "print(id(rect))"
   ]
  },
  {
   "cell_type": "markdown",
   "metadata": {},
   "source": [
    "## Attributes and Methods"
   ]
  },
  {
   "cell_type": "code",
   "execution_count": 13,
   "metadata": {
    "collapsed": true
   },
   "outputs": [],
   "source": [
    "class Rectangle:\n",
    "    '''\n",
    "    Rectangle class \n",
    "    '''\n",
    "    height= 0   # shared attribute : common for all objects\n",
    "                # Try to avoid using mutables as shared objects.\n",
    "    \n",
    "    def __init__(self, length,breadth): # initializing the class attributes\n",
    "        self.length  = length\n",
    "        self.breadth = breadth\n",
    "    \n",
    "    def _perimeter(self):              # kind of private method\n",
    "        '''\n",
    "        returns perimeter of the Rectangle\n",
    "        '''\n",
    "        return 2*(self.length + self. breadth)\n",
    "        \n",
    "    \n",
    "    def area(self):\n",
    "        \"\"\"\n",
    "        calculates the area of the rectangle\n",
    "        \"\"\"\n",
    "        return self.length * self.breadth\n",
    "        "
   ]
  },
  {
   "cell_type": "code",
   "execution_count": null,
   "metadata": {
    "collapsed": true
   },
   "outputs": [],
   "source": []
  },
  {
   "cell_type": "code",
   "execution_count": 14,
   "metadata": {},
   "outputs": [
    {
     "data": {
      "text/plain": [
       "12"
      ]
     },
     "execution_count": 14,
     "metadata": {},
     "output_type": "execute_result"
    }
   ],
   "source": [
    "rect1=Rectangle(3,4)\n",
    "rect1.area()"
   ]
  },
  {
   "cell_type": "code",
   "execution_count": 15,
   "metadata": {},
   "outputs": [
    {
     "data": {
      "text/plain": [
       "14"
      ]
     },
     "execution_count": 15,
     "metadata": {},
     "output_type": "execute_result"
    }
   ],
   "source": [
    "rect1._perimeter()"
   ]
  },
  {
   "cell_type": "code",
   "execution_count": null,
   "metadata": {
    "collapsed": true
   },
   "outputs": [],
   "source": []
  },
  {
   "cell_type": "code",
   "execution_count": null,
   "metadata": {
    "collapsed": true
   },
   "outputs": [],
   "source": []
  },
  {
   "cell_type": "code",
   "execution_count": 90,
   "metadata": {
    "collapsed": true
   },
   "outputs": [],
   "source": [
    "#rect1.    #check using tab for available methods and attributes"
   ]
  },
  {
   "cell_type": "code",
   "execution_count": 56,
   "metadata": {},
   "outputs": [
    {
     "data": {
      "text/plain": [
       "16"
      ]
     },
     "execution_count": 56,
     "metadata": {},
     "output_type": "execute_result"
    }
   ],
   "source": [
    "rect1.length = 4   # one can access the object attributes and change their values \n",
    "rect1.area()"
   ]
  },
  {
   "cell_type": "code",
   "execution_count": 16,
   "metadata": {
    "collapsed": true
   },
   "outputs": [],
   "source": [
    "rect2=Rectangle(5,6)    # Another Rectangle class object rect2 created\n",
    "rect3=Rectangle(12,12)"
   ]
  },
  {
   "cell_type": "code",
   "execution_count": 17,
   "metadata": {},
   "outputs": [
    {
     "name": "stdout",
     "output_type": "stream",
     "text": [
      "0 0 0\n"
     ]
    }
   ],
   "source": [
    "print(rect1.height,rect2.height,rect3.height)   # for all the objects we get same height value."
   ]
  },
  {
   "cell_type": "code",
   "execution_count": 112,
   "metadata": {
    "collapsed": true
   },
   "outputs": [],
   "source": [
    "rect1.height = 1000   "
   ]
  },
  {
   "cell_type": "code",
   "execution_count": null,
   "metadata": {
    "collapsed": true
   },
   "outputs": [],
   "source": [
    "print(rect1.height,rect2.height,rect3.height)   # what is the predicted output?"
   ]
  },
  {
   "cell_type": "code",
   "execution_count": null,
   "metadata": {
    "collapsed": true
   },
   "outputs": [],
   "source": []
  },
  {
   "cell_type": "markdown",
   "metadata": {},
   "source": [
    "### what if the shared attribute is mutable"
   ]
  },
  {
   "cell_type": "code",
   "execution_count": 19,
   "metadata": {
    "collapsed": true
   },
   "outputs": [],
   "source": [
    "class Bmi:\n",
    "    '''\n",
    "    Rectangle class \n",
    "    '''\n",
    "    bmi_t=[]   # shared attribute : common for all objects\n",
    "    \n",
    "    def __init__(self, w,h): # initializing the class attributes\n",
    "        self.height  = h\n",
    "        self.weight  = w\n",
    "        self.bmi_t.append((self.weight)/(self.height**2))\n",
    "        "
   ]
  },
  {
   "cell_type": "code",
   "execution_count": 22,
   "metadata": {},
   "outputs": [],
   "source": [
    "person1=Bmi(59,1.5)"
   ]
  },
  {
   "cell_type": "code",
   "execution_count": 23,
   "metadata": {},
   "outputs": [
    {
     "data": {
      "text/plain": [
       "[26.666666666666668, 26.22222222222222]"
      ]
     },
     "execution_count": 23,
     "metadata": {},
     "output_type": "execute_result"
    }
   ],
   "source": [
    "person1.bmi_t"
   ]
  },
  {
   "cell_type": "code",
   "execution_count": 24,
   "metadata": {
    "collapsed": true
   },
   "outputs": [],
   "source": [
    "person2 = Bmi(75,1.6)"
   ]
  },
  {
   "cell_type": "code",
   "execution_count": 25,
   "metadata": {},
   "outputs": [
    {
     "name": "stdout",
     "output_type": "stream",
     "text": [
      "[26.666666666666668, 26.22222222222222, 29.296874999999993] [26.666666666666668, 26.22222222222222, 29.296874999999993]\n"
     ]
    }
   ],
   "source": [
    "print(person1.bmi_t, person2.bmi_t)  # both the objects have same values\n",
    "                                    # bmi_t being list which is mutable appended the value for both person1 and person2"
   ]
  },
  {
   "cell_type": "code",
   "execution_count": null,
   "metadata": {
    "collapsed": true
   },
   "outputs": [],
   "source": []
  },
  {
   "cell_type": "markdown",
   "metadata": {},
   "source": [
    "## Inheritance"
   ]
  },
  {
   "cell_type": "code",
   "execution_count": 181,
   "metadata": {
    "collapsed": true
   },
   "outputs": [],
   "source": [
    "# revisit our rectangle class\n",
    "class Rectangle:\n",
    "    '''\n",
    "    Rectangle class \n",
    "    '''\n",
    "    height= 0   # shared attribute : common for all objects\n",
    "                # Try to avoid using mutables as shared objects.\n",
    "    \n",
    "    def __init__(self, length,breadth): # initializing the class attributes\n",
    "        self.length  = length\n",
    "        self.breadth = breadth\n",
    "    \n",
    "    def _perimeter(self):              # kind of private method\n",
    "        '''\n",
    "        returns perimeter of the Rectangle\n",
    "        '''\n",
    "        return 2*(self.length + self. breadth)\n",
    "        \n",
    "    \n",
    "    def area(self):\n",
    "        \"\"\"\n",
    "        calculates the area of the rectangle\n",
    "        \"\"\"\n",
    "        return self.length * self.breadth"
   ]
  },
  {
   "cell_type": "code",
   "execution_count": 26,
   "metadata": {
    "collapsed": true
   },
   "outputs": [],
   "source": [
    "class Square(Rectangle):    # observe the paranthesis\n",
    "    '''\n",
    "    Squre class inherinting Rectangle class\n",
    "    '''\n",
    "    def __init__(self,side):\n",
    "        Rectangle.__init__(self,side,side)"
   ]
  },
  {
   "cell_type": "code",
   "execution_count": 27,
   "metadata": {},
   "outputs": [
    {
     "name": "stdout",
     "output_type": "stream",
     "text": [
      "Area\t 100\n",
      "Perimeter\t 40\n"
     ]
    }
   ],
   "source": [
    "sqr1=Square(10)\n",
    "print(\"Area\\t\",sqr1.area())\n",
    "print(\"Perimeter\\t\",sqr1._perimeter())"
   ]
  },
  {
   "cell_type": "markdown",
   "metadata": {},
   "source": [
    "### Squre is a sub- class of Rectangle class and \n",
    "### Rectangle is a super class of Squre class"
   ]
  },
  {
   "cell_type": "markdown",
   "metadata": {},
   "source": [
    "## super function of python"
   ]
  },
  {
   "cell_type": "code",
   "execution_count": 189,
   "metadata": {
    "collapsed": true
   },
   "outputs": [],
   "source": [
    "class Square(Rectangle):    # observe the paranthesis\n",
    "    '''\n",
    "    Squre class inherinting Rectangle class\n",
    "    '''\n",
    "    def __init__(self,side):\n",
    "        super(Square,self).__init__(side,side)   # more pythonic way "
   ]
  },
  {
   "cell_type": "code",
   "execution_count": 190,
   "metadata": {},
   "outputs": [
    {
     "name": "stdout",
     "output_type": "stream",
     "text": [
      "Area\t 100\n",
      "Perimeter\t 40\n"
     ]
    }
   ],
   "source": [
    "sqr1=Square(10)\n",
    "print(\"Area\\t\",sqr1.area())\n",
    "print(\"Perimeter\\t\",sqr1._perimeter())"
   ]
  },
  {
   "cell_type": "markdown",
   "metadata": {},
   "source": [
    "### veryfying using isinstance()"
   ]
  },
  {
   "cell_type": "code",
   "execution_count": 28,
   "metadata": {},
   "outputs": [
    {
     "name": "stdout",
     "output_type": "stream",
     "text": [
      "True\n"
     ]
    }
   ],
   "source": [
    "print(isinstance(sqr1, Rectangle))"
   ]
  },
  {
   "cell_type": "code",
   "execution_count": 29,
   "metadata": {},
   "outputs": [
    {
     "name": "stdout",
     "output_type": "stream",
     "text": [
      "False\n"
     ]
    }
   ],
   "source": [
    "print(isinstance (rect1, Square))"
   ]
  },
  {
   "cell_type": "markdown",
   "metadata": {},
   "source": [
    "## Multiple inheritance and Method Resolution order"
   ]
  },
  {
   "cell_type": "code",
   "execution_count": 30,
   "metadata": {
    "collapsed": true
   },
   "outputs": [],
   "source": [
    "class A:\n",
    "    def func(self):\n",
    "        print(\"From Class A\")\n",
    "\n",
    "class B:\n",
    "    def func(self):\n",
    "        print(\"From class B\")\n",
    "\n"
   ]
  },
  {
   "cell_type": "code",
   "execution_count": 31,
   "metadata": {},
   "outputs": [
    {
     "name": "stdout",
     "output_type": "stream",
     "text": [
      "From Class A\n"
     ]
    }
   ],
   "source": [
    "class C(A,B):       # Class C inherits both A and B\n",
    "    pass\n",
    "\n",
    "c = C()\n",
    "c.func()"
   ]
  },
  {
   "cell_type": "code",
   "execution_count": 32,
   "metadata": {},
   "outputs": [
    {
     "name": "stdout",
     "output_type": "stream",
     "text": [
      "From class B\n"
     ]
    }
   ],
   "source": [
    "\n",
    "class D(B,A):       # Class C inherits both A and B\n",
    "    pass\n",
    "\n",
    "d =D()\n",
    "d.func()"
   ]
  },
  {
   "cell_type": "code",
   "execution_count": 33,
   "metadata": {},
   "outputs": [
    {
     "data": {
      "text/plain": [
       "(__main__.C, __main__.A, __main__.B, object)"
      ]
     },
     "execution_count": 33,
     "metadata": {},
     "output_type": "execute_result"
    }
   ],
   "source": [
    "C.__mro__"
   ]
  },
  {
   "cell_type": "code",
   "execution_count": 34,
   "metadata": {},
   "outputs": [
    {
     "data": {
      "text/plain": [
       "(__main__.D, __main__.B, __main__.A, object)"
      ]
     },
     "execution_count": 34,
     "metadata": {},
     "output_type": "execute_result"
    }
   ],
   "source": [
    "D.__mro__"
   ]
  },
  {
   "cell_type": "code",
   "execution_count": null,
   "metadata": {
    "collapsed": true
   },
   "outputs": [],
   "source": []
  }
 ],
 "metadata": {
  "kernelspec": {
   "display_name": "Python 3",
   "language": "python",
   "name": "python3"
  },
  "language_info": {
   "codemirror_mode": {
    "name": "ipython",
    "version": 3
   },
   "file_extension": ".py",
   "mimetype": "text/x-python",
   "name": "python",
   "nbconvert_exporter": "python",
   "pygments_lexer": "ipython3",
   "version": "3.6.1"
  }
 },
 "nbformat": 4,
 "nbformat_minor": 2
}
