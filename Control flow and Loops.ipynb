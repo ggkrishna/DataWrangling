{
 "cells": [
  {
   "cell_type": "markdown",
   "metadata": {},
   "source": [
    "# if-elif-else"
   ]
  },
  {
   "cell_type": "markdown",
   "metadata": {},
   "source": [
    "#### if condition:\n",
    "#### &nbsp;&nbsp;&nbsp;&nbsp; expressions\n",
    "#### elif condition:\n",
    "##### &nbsp;&nbsp;&nbsp;&nbsp; expressions\n",
    "#### else:\n",
    "#### &nbsp;&nbsp;&nbsp;&nbsp; expressions"
   ]
  },
  {
   "cell_type": "code",
   "execution_count": 6,
   "metadata": {},
   "outputs": [
    {
     "name": "stdout",
     "output_type": "stream",
     "text": [
      "78\n",
      "The number is positive\n",
      "another statement for positive block\n"
     ]
    }
   ],
   "source": [
    "num=float(input())  # getting an input and converting it to float\n",
    "if num>0:\n",
    "    print(\"The number is positive\")\n",
    "    print(\"another statement for positive block\")# observe the indentation\n",
    "elif num<0:\n",
    "    print(\"The number is negative\")\n",
    "else:\n",
    "    print(\"The number is zero\")"
   ]
  },
  {
   "cell_type": "code",
   "execution_count": 7,
   "metadata": {
    "collapsed": true
   },
   "outputs": [],
   "source": [
    "# Build a control flow for grading total marks \n",
    "\n",
    "# input total marks in variable tot_marks\n",
    "\n",
    "#  tot_marks >= 60 msg=\"First class\"\n",
    "\n",
    "# tot_makrs >= 40 msg=\" Second class\"\n",
    "\n",
    "# tot_makrs < 40 msg=\"Failed\"\n",
    "\n",
    "#print(msg)\n",
    "\n",
    "# try double conditions"
   ]
  },
  {
   "cell_type": "code",
   "execution_count": 8,
   "metadata": {},
   "outputs": [
    {
     "name": "stdout",
     "output_type": "stream",
     "text": [
      "78\n",
      "Frist class\n"
     ]
    }
   ],
   "source": [
    "tot_marks=float(input())\n",
    "if tot_marks < 100 and tot_marks > 60:\n",
    "    print(\"Frist class\")\n",
    "else:\n",
    "    print(\"not first class\")"
   ]
  },
  {
   "cell_type": "markdown",
   "metadata": {},
   "source": [
    "## No switch - case control flow in python"
   ]
  },
  {
   "cell_type": "markdown",
   "metadata": {},
   "source": [
    "# While Loop"
   ]
  },
  {
   "cell_type": "markdown",
   "metadata": {},
   "source": [
    "#### while condition:\n",
    "#### &nbsp;&nbsp;&nbsp;&nbsp;expressions"
   ]
  },
  {
   "cell_type": "markdown",
   "metadata": {},
   "source": [
    "## Repeats executing the expression block untill the condition is met."
   ]
  },
  {
   "cell_type": "code",
   "execution_count": 9,
   "metadata": {},
   "outputs": [
    {
     "name": "stdout",
     "output_type": "stream",
     "text": [
      "50\n",
      "40\n"
     ]
    }
   ],
   "source": [
    "a=50\n",
    "while a>30:      # a>30 is True\n",
    "    print(a)\n",
    "    a-=10"
   ]
  },
  {
   "cell_type": "markdown",
   "metadata": {},
   "source": [
    "### write a while loop to get sum 50 positive integers from 100 to 150 "
   ]
  },
  {
   "cell_type": "code",
   "execution_count": 10,
   "metadata": {},
   "outputs": [
    {
     "name": "stdout",
     "output_type": "stream",
     "text": [
      "6225\n"
     ]
    }
   ],
   "source": [
    "a=100\n",
    "sum=0\n",
    "while a<150:\n",
    "    sum+=a\n",
    "    a+=1\n",
    "print(sum)"
   ]
  },
  {
   "cell_type": "code",
   "execution_count": 11,
   "metadata": {
    "collapsed": true
   },
   "outputs": [],
   "source": [
    "lst=[1,2,3,4]"
   ]
  },
  {
   "cell_type": "code",
   "execution_count": 12,
   "metadata": {},
   "outputs": [
    {
     "data": {
      "text/plain": [
       "False"
      ]
     },
     "execution_count": 12,
     "metadata": {},
     "output_type": "execute_result"
    }
   ],
   "source": [
    "20 in lst"
   ]
  },
  {
   "cell_type": "markdown",
   "metadata": {},
   "source": [
    "# for Loop"
   ]
  },
  {
   "cell_type": "markdown",
   "metadata": {},
   "source": [
    "#### for var in seq:\n",
    "#### &nbsp;&nbsp;&nbsp;&nbsp;expressions"
   ]
  },
  {
   "cell_type": "markdown",
   "metadata": {},
   "source": [
    "## it can be read as \"for each var in seq, execute expressions\""
   ]
  },
  {
   "cell_type": "code",
   "execution_count": 13,
   "metadata": {},
   "outputs": [
    {
     "name": "stdout",
     "output_type": "stream",
     "text": [
      "India\n",
      "Pakistan\n",
      "Bangladesh\n",
      "Sri Lanka\n",
      "Australia\n",
      "South Africa\n",
      "West Indies\n",
      "England\n"
     ]
    }
   ],
   "source": [
    "list_of_countries=['India','Pakistan','Bangladesh','Sri Lanka', 'Australia','South Africa', 'West Indies', 'England']\n",
    "\n",
    "for country in list_of_countries:\n",
    "    print(country)   # observe the indentation"
   ]
  },
  {
   "cell_type": "code",
   "execution_count": 14,
   "metadata": {},
   "outputs": [
    {
     "name": "stdout",
     "output_type": "stream",
     "text": [
      "f \t 102\n",
      "g \t 103\n",
      "h \t 104\n",
      "i \t 105\n",
      "j \t 106\n",
      "k \t 107\n",
      "l \t 108\n",
      "m \t 109\n",
      "n \t 110\n",
      "o \t 111\n",
      "p \t 112\n",
      "q \t 113\n",
      "r \t 114\n",
      "s \t 115\n",
      "t \t 116\n",
      "u \t 117\n",
      "v \t 118\n",
      "w \t 119\n",
      "x \t 120\n",
      "y \t 121\n",
      "z \t 122\n"
     ]
    }
   ],
   "source": [
    "# lets print the unicodes of all small letters\n",
    "# extend it for capital letters\n",
    "\n",
    "smalls= \"fghijklmnopqrstuvwxyz\"    # smalls is a string containing all small letters\n",
    "for a in smalls:\n",
    "    print(a,'\\t', ord(a) )"
   ]
  },
  {
   "cell_type": "code",
   "execution_count": 15,
   "metadata": {},
   "outputs": [
    {
     "data": {
      "text/plain": [
       "['a', 'b', 'c', 'd']"
      ]
     },
     "execution_count": 15,
     "metadata": {},
     "output_type": "execute_result"
    }
   ],
   "source": [
    "# one can covert string to list as follows\n",
    "list('abcd')"
   ]
  },
  {
   "cell_type": "code",
   "execution_count": 16,
   "metadata": {},
   "outputs": [
    {
     "name": "stdout",
     "output_type": "stream",
     "text": [
      "a \t 97\n",
      "b \t 98\n",
      "c \t 99\n",
      "d \t 100\n",
      "e \t 101\n",
      "f \t 102\n",
      "g \t 103\n",
      "h \t 104\n",
      "i \t 105\n",
      "j \t 106\n",
      "k \t 107\n",
      "l \t 108\n",
      "m \t 109\n",
      "n \t 110\n",
      "o \t 111\n",
      "p \t 112\n",
      "q \t 113\n",
      "r \t 114\n",
      "s \t 115\n",
      "t \t 116\n",
      "u \t 117\n",
      "v \t 118\n",
      "w \t 119\n",
      "x \t 120\n",
      "y \t 121\n",
      "z \t 122\n"
     ]
    }
   ],
   "source": [
    "smalls= ['a','b','c','d','e','f','g','h','i','j','k','l','m','n','o','p','q','r','s','t','u','v','w','x','y','z']    # smalls is a string containing all small letters\n",
    "for a in smalls:\n",
    "    print(a,'\\t', ord(a) )"
   ]
  },
  {
   "cell_type": "markdown",
   "metadata": {},
   "source": [
    "### Above we have seen for loop iterating over each element of list or each character of the string\n",
    "### So sequence can be any thing \"iterable\" and for loop creates \"iterator\" of it."
   ]
  },
  {
   "cell_type": "markdown",
   "metadata": {},
   "source": [
    "### Iterable\n",
    "### Examples: lists, strings, dictionaries, file connections\n",
    "### An object with an associated iter() method\n",
    "### Applying iter() to an iterable creates an iterator\n",
    "### Iterator\n",
    "### Produces next value with next()"
   ]
  },
  {
   "cell_type": "code",
   "execution_count": 17,
   "metadata": {},
   "outputs": [
    {
     "data": {
      "text/plain": [
       "<list_iterator at 0x102579630>"
      ]
     },
     "execution_count": 17,
     "metadata": {},
     "output_type": "execute_result"
    }
   ],
   "source": [
    "lst=[1,2,3,4]\n",
    "iter(lst)    # iter function associated to the list which is an iterable creates an iterator object."
   ]
  },
  {
   "cell_type": "code",
   "execution_count": 18,
   "metadata": {},
   "outputs": [
    {
     "data": {
      "text/plain": [
       "list_iterator"
      ]
     },
     "execution_count": 18,
     "metadata": {},
     "output_type": "execute_result"
    }
   ],
   "source": [
    "# lets check what is the type of it created here\n",
    "type(iter(lst))  # its list_iterator"
   ]
  },
  {
   "cell_type": "code",
   "execution_count": 19,
   "metadata": {
    "collapsed": true
   },
   "outputs": [],
   "source": [
    "lst_itr=iter(lst)"
   ]
  },
  {
   "cell_type": "code",
   "execution_count": 20,
   "metadata": {},
   "outputs": [
    {
     "data": {
      "text/plain": [
       "1"
      ]
     },
     "execution_count": 20,
     "metadata": {},
     "output_type": "execute_result"
    }
   ],
   "source": [
    "next(lst_itr)   # after stop it has to be re-initiated by using iter function"
   ]
  },
  {
   "cell_type": "code",
   "execution_count": 21,
   "metadata": {},
   "outputs": [
    {
     "data": {
      "text/plain": [
       "str_iterator"
      ]
     },
     "execution_count": 21,
     "metadata": {},
     "output_type": "execute_result"
    }
   ],
   "source": [
    "str_tmp=\"hello\"\n",
    "str_itr=iter(str_tmp)\n",
    "type(str_itr) # here its created str_iterator"
   ]
  },
  {
   "cell_type": "code",
   "execution_count": 22,
   "metadata": {},
   "outputs": [
    {
     "data": {
      "text/plain": [
       "'h'"
      ]
     },
     "execution_count": 22,
     "metadata": {},
     "output_type": "execute_result"
    }
   ],
   "source": [
    "next(str_itr)"
   ]
  },
  {
   "cell_type": "code",
   "execution_count": 23,
   "metadata": {},
   "outputs": [
    {
     "data": {
      "text/plain": [
       "dict_keyiterator"
      ]
     },
     "execution_count": 23,
     "metadata": {},
     "output_type": "execute_result"
    }
   ],
   "source": [
    "dict_tmp={'a':'first','b':'second'}\n",
    "dict_itr = iter(dict_tmp)\n",
    "type(iter(dict_tmp)) # here its created a dict_keyiterator"
   ]
  },
  {
   "cell_type": "code",
   "execution_count": 24,
   "metadata": {},
   "outputs": [
    {
     "data": {
      "text/plain": [
       "'a'"
      ]
     },
     "execution_count": 24,
     "metadata": {},
     "output_type": "execute_result"
    }
   ],
   "source": [
    "next(dict_itr)  # it returns only the key"
   ]
  },
  {
   "cell_type": "code",
   "execution_count": 25,
   "metadata": {},
   "outputs": [
    {
     "name": "stdout",
     "output_type": "stream",
     "text": [
      "b\n"
     ]
    }
   ],
   "source": [
    "print(*dict_itr)    # iterating at once"
   ]
  },
  {
   "cell_type": "markdown",
   "metadata": {},
   "source": [
    "### how to iterate over both key value pairs of any dictionary?"
   ]
  },
  {
   "cell_type": "code",
   "execution_count": 26,
   "metadata": {
    "collapsed": true
   },
   "outputs": [],
   "source": [
    "# we use the dictionary function items\n",
    "# it returns us the dict_items object which is like tuples of key-value pairs"
   ]
  },
  {
   "cell_type": "code",
   "execution_count": 27,
   "metadata": {},
   "outputs": [
    {
     "data": {
      "text/plain": [
       "dict_items([('a', 'first'), ('b', 'second')])"
      ]
     },
     "execution_count": 27,
     "metadata": {},
     "output_type": "execute_result"
    }
   ],
   "source": [
    "dict_tmp.items()"
   ]
  },
  {
   "cell_type": "code",
   "execution_count": 28,
   "metadata": {},
   "outputs": [
    {
     "name": "stdout",
     "output_type": "stream",
     "text": [
      "a first\n",
      "b second\n"
     ]
    }
   ],
   "source": [
    "for kv in dict_tmp.items():\n",
    "    #print(key,'\\t',value)\n",
    "    print(kv[0],kv[1])"
   ]
  },
  {
   "cell_type": "code",
   "execution_count": 29,
   "metadata": {},
   "outputs": [
    {
     "name": "stdout",
     "output_type": "stream",
     "text": [
      "a first\n",
      "b second\n"
     ]
    }
   ],
   "source": [
    "for key in dict_tmp:\n",
    "    print(key,dict_tmp[key])"
   ]
  },
  {
   "cell_type": "code",
   "execution_count": 30,
   "metadata": {
    "collapsed": true
   },
   "outputs": [],
   "source": [
    "dict1={'India':'Asia', 'England': ' Europe', 'Mexico': 'America' }"
   ]
  },
  {
   "cell_type": "code",
   "execution_count": 31,
   "metadata": {},
   "outputs": [
    {
     "data": {
      "text/plain": [
       "dict_keys(['India', 'England', 'Mexico'])"
      ]
     },
     "execution_count": 31,
     "metadata": {},
     "output_type": "execute_result"
    }
   ],
   "source": [
    "dict1.keys()"
   ]
  },
  {
   "cell_type": "code",
   "execution_count": 32,
   "metadata": {},
   "outputs": [
    {
     "data": {
      "text/plain": [
       "dict_values(['Asia', ' Europe', 'America'])"
      ]
     },
     "execution_count": 32,
     "metadata": {},
     "output_type": "execute_result"
    }
   ],
   "source": [
    "dict1.values()"
   ]
  },
  {
   "cell_type": "code",
   "execution_count": 33,
   "metadata": {},
   "outputs": [
    {
     "data": {
      "text/plain": [
       "dict_items([('India', 'Asia'), ('England', ' Europe'), ('Mexico', 'America')])"
      ]
     },
     "execution_count": 33,
     "metadata": {},
     "output_type": "execute_result"
    }
   ],
   "source": [
    "dict1.items()"
   ]
  },
  {
   "cell_type": "code",
   "execution_count": 34,
   "metadata": {},
   "outputs": [
    {
     "data": {
      "text/plain": [
       "'Asia'"
      ]
     },
     "execution_count": 34,
     "metadata": {},
     "output_type": "execute_result"
    }
   ],
   "source": [
    "dict1['India']"
   ]
  },
  {
   "cell_type": "code",
   "execution_count": null,
   "metadata": {
    "collapsed": true
   },
   "outputs": [],
   "source": []
  },
  {
   "cell_type": "markdown",
   "metadata": {},
   "source": [
    "# For loop summary"
   ]
  },
  {
   "cell_type": "code",
   "execution_count": 35,
   "metadata": {
    "collapsed": true
   },
   "outputs": [],
   "source": [
    "# Each item of any sequence (iterable) can be iterated inside a for loop "
   ]
  },
  {
   "cell_type": "code",
   "execution_count": 36,
   "metadata": {},
   "outputs": [
    {
     "name": "stdout",
     "output_type": "stream",
     "text": [
      "abcd\n",
      "a \t A\n",
      "b \t B\n",
      "c \t C\n",
      "d \t D\n"
     ]
    }
   ],
   "source": [
    "# string iteration\n",
    "strng=\"abcd\"\n",
    "print(strng)\n",
    "\n",
    "for ch in strng:\n",
    "    print(ch,'\\t' ,ch.capitalize())"
   ]
  },
  {
   "cell_type": "code",
   "execution_count": 37,
   "metadata": {},
   "outputs": [
    {
     "name": "stdout",
     "output_type": "stream",
     "text": [
      "['a', 'b', 'c', 'd']\n",
      "a \t A\n",
      "b \t B\n",
      "c \t C\n",
      "d \t D\n"
     ]
    }
   ],
   "source": [
    "# list iteration:\n",
    "lst=list(strng)\n",
    "print(lst)\n",
    "for ch in lst:\n",
    "    print(ch,'\\t' ,ch.capitalize())"
   ]
  },
  {
   "cell_type": "code",
   "execution_count": 38,
   "metadata": {},
   "outputs": [
    {
     "name": "stdout",
     "output_type": "stream",
     "text": [
      "{'spain': 'madrid', 'france': 'paris', 'germany': 'berlin', 'norway': 'oslo'}\n",
      "spain\n",
      "france\n",
      "germany\n",
      "norway\n"
     ]
    }
   ],
   "source": [
    "countries =['spain', 'france', 'germany', 'norway']\n",
    "capitals =['madrid', 'paris', 'berlin', 'oslo']\n",
    "dict_cc= dict(zip(countries,capitals))\n",
    "print(dict_cc)\n",
    "for k1 in dict_cc:   # we can access only keys of the dictionary\n",
    "    print(k1)"
   ]
  },
  {
   "cell_type": "code",
   "execution_count": 39,
   "metadata": {},
   "outputs": [
    {
     "name": "stdout",
     "output_type": "stream",
     "text": [
      "spain \t madrid\n",
      "france \t paris\n",
      "germany \t berlin\n",
      "norway \t oslo\n"
     ]
    }
   ],
   "source": [
    "for k in dict_cc:   # we can access only keys of the dictionary\n",
    "    print(k,'\\t',dict_cc[k])    # accessing dictionary value for each key"
   ]
  },
  {
   "cell_type": "code",
   "execution_count": 40,
   "metadata": {},
   "outputs": [
    {
     "name": "stdout",
     "output_type": "stream",
     "text": [
      "spain \t madrid\n",
      "france \t paris\n",
      "germany \t berlin\n",
      "norway \t oslo\n"
     ]
    }
   ],
   "source": [
    "# we can use dictionary method dict_cc.items() for getting both key, value pairs\n",
    "for k,v  in dict_cc.items():\n",
    "    print(k,'\\t',v)"
   ]
  },
  {
   "cell_type": "code",
   "execution_count": 41,
   "metadata": {},
   "outputs": [
    {
     "name": "stdout",
     "output_type": "stream",
     "text": [
      "('spain', 'madrid')\n",
      "('france', 'paris')\n",
      "('germany', 'berlin')\n",
      "('norway', 'oslo')\n"
     ]
    }
   ],
   "source": [
    "# zip two lists\n",
    "for itms in zip(countries, capitals):\n",
    "    print(itms)"
   ]
  },
  {
   "cell_type": "code",
   "execution_count": 42,
   "metadata": {},
   "outputs": [
    {
     "name": "stdout",
     "output_type": "stream",
     "text": [
      "spain \t madrid\n",
      "france \t paris\n",
      "germany \t berlin\n",
      "norway \t oslo\n"
     ]
    }
   ],
   "source": [
    "# zip two lists\n",
    "for itms in zip(countries, capitals):\n",
    "    print(itms[0], '\\t',itms[1])"
   ]
  },
  {
   "cell_type": "markdown",
   "metadata": {},
   "source": [
    "## enumarate()"
   ]
  },
  {
   "cell_type": "code",
   "execution_count": 70,
   "metadata": {},
   "outputs": [
    {
     "data": {
      "text/plain": [
       "['India',\n",
       " 'Pakistan',\n",
       " 'Bangladesh',\n",
       " 'Sri Lanka',\n",
       " 'Australia',\n",
       " 'South Africa',\n",
       " 'West Indies',\n",
       " 'England']"
      ]
     },
     "execution_count": 70,
     "metadata": {},
     "output_type": "execute_result"
    }
   ],
   "source": [
    "list_of_countries"
   ]
  },
  {
   "cell_type": "code",
   "execution_count": 71,
   "metadata": {},
   "outputs": [
    {
     "data": {
      "text/plain": [
       "<enumerate at 0x1026786c0>"
      ]
     },
     "execution_count": 71,
     "metadata": {},
     "output_type": "execute_result"
    }
   ],
   "source": [
    "enumerate(list_of_countries)"
   ]
  },
  {
   "cell_type": "code",
   "execution_count": null,
   "metadata": {
    "collapsed": true
   },
   "outputs": [],
   "source": []
  },
  {
   "cell_type": "code",
   "execution_count": 72,
   "metadata": {},
   "outputs": [
    {
     "name": "stdout",
     "output_type": "stream",
     "text": [
      "0 India\n",
      "1 Pakistan\n",
      "2 Bangladesh\n",
      "3 Sri Lanka\n",
      "4 Australia\n",
      "5 South Africa\n",
      "6 West Indies\n",
      "7 England\n"
     ]
    }
   ],
   "source": [
    "for pos, country in enumerate(list_of_countries):\n",
    "    print(pos, country)"
   ]
  },
  {
   "cell_type": "code",
   "execution_count": 73,
   "metadata": {},
   "outputs": [
    {
     "name": "stdout",
     "output_type": "stream",
     "text": [
      "1 India\n",
      "2 Pakistan\n",
      "3 Bangladesh\n",
      "4 Sri Lanka\n",
      "5 Australia\n",
      "6 South Africa\n",
      "7 West Indies\n",
      "8 England\n"
     ]
    }
   ],
   "source": [
    "for pos, country in enumerate(list_of_countries, start=1):\n",
    "    print(pos, country)"
   ]
  },
  {
   "cell_type": "code",
   "execution_count": 47,
   "metadata": {
    "collapsed": true
   },
   "outputs": [],
   "source": [
    "countries = ['spain', 'france', 'germany', 'norway']\n",
    "capitals = ['madrid', 'paris', 'berlin', 'oslo']\n",
    "# how to print country and capital pairs of this above lists?"
   ]
  },
  {
   "cell_type": "code",
   "execution_count": 74,
   "metadata": {},
   "outputs": [
    {
     "name": "stdout",
     "output_type": "stream",
     "text": [
      "spain \t\t\t madrid\n",
      "france \t\t\t paris\n",
      "germany \t\t\t berlin\n",
      "norway \t\t\t oslo\n"
     ]
    }
   ],
   "source": [
    "# using index\n",
    "for c in countries:\n",
    "    print(c,'\\t\\t\\t', capitals[countries.index(c)])"
   ]
  },
  {
   "cell_type": "code",
   "execution_count": 76,
   "metadata": {},
   "outputs": [
    {
     "name": "stdout",
     "output_type": "stream",
     "text": [
      "spain \t\t\t madrid\n",
      "france \t\t\t paris\n",
      "germany \t\t\t berlin\n",
      "norway \t\t\t oslo\n"
     ]
    }
   ],
   "source": [
    "for a,b in enumerate(countries):\n",
    "    print(b,'\\t\\t\\t', capitals[a])"
   ]
  },
  {
   "cell_type": "code",
   "execution_count": 49,
   "metadata": {},
   "outputs": [
    {
     "data": {
      "text/plain": [
       "[('spain', 'madrid'),\n",
       " ('france', 'paris'),\n",
       " ('germany', 'berlin'),\n",
       " ('norway', 'oslo')]"
      ]
     },
     "execution_count": 49,
     "metadata": {},
     "output_type": "execute_result"
    }
   ],
   "source": [
    "list(zip(countries,capitals))"
   ]
  },
  {
   "cell_type": "code",
   "execution_count": 50,
   "metadata": {},
   "outputs": [
    {
     "name": "stdout",
     "output_type": "stream",
     "text": [
      "spain \t\t\t madrid\n",
      "france \t\t\t paris\n",
      "germany \t\t\t berlin\n",
      "norway \t\t\t oslo\n"
     ]
    }
   ],
   "source": [
    "# using dictionary \n",
    "\n",
    "dict_cc=dict(zip(countries,capitals))  # using zip to combine two lists to form a dictionary\n",
    "for key, val in dict_cc.items():\n",
    "    print(key,'\\t\\t\\t',val)"
   ]
  },
  {
   "cell_type": "code",
   "execution_count": 51,
   "metadata": {},
   "outputs": [
    {
     "name": "stdout",
     "output_type": "stream",
     "text": [
      "spain \t\t\t madrid\n",
      "france \t\t\t paris\n",
      "germany \t\t\t berlin\n",
      "norway \t\t\t oslo\n"
     ]
    }
   ],
   "source": [
    "# even zip object is iterable\n",
    "\n",
    "for key, val in zip(countries,capitals):\n",
    "    print(key,'\\t\\t\\t',val)"
   ]
  },
  {
   "cell_type": "code",
   "execution_count": 52,
   "metadata": {
    "collapsed": true
   },
   "outputs": [],
   "source": [
    "# file connections also iterables which will be discussed later."
   ]
  },
  {
   "cell_type": "markdown",
   "metadata": {},
   "source": [
    "## range function"
   ]
  },
  {
   "cell_type": "code",
   "execution_count": 53,
   "metadata": {
    "collapsed": true
   },
   "outputs": [],
   "source": [
    "range()  press tab to get help"
   ]
  },
  {
   "cell_type": "code",
   "execution_count": 54,
   "metadata": {},
   "outputs": [
    {
     "data": {
      "text/plain": [
       "range(0, 100)"
      ]
     },
     "execution_count": 54,
     "metadata": {},
     "output_type": "execute_result"
    }
   ],
   "source": [
    "range(100)  # output is an iterable "
   ]
  },
  {
   "cell_type": "code",
   "execution_count": 79,
   "metadata": {},
   "outputs": [
    {
     "name": "stdout",
     "output_type": "stream",
     "text": [
      "3\n",
      "5\n",
      "7\n",
      "9\n"
     ]
    }
   ],
   "source": [
    "for i in range(3,10,2):\n",
    "    print(i)"
   ]
  },
  {
   "cell_type": "code",
   "execution_count": 55,
   "metadata": {},
   "outputs": [
    {
     "name": "stdout",
     "output_type": "stream",
     "text": [
      "0\n",
      "2\n",
      "4\n",
      "6\n",
      "8\n"
     ]
    }
   ],
   "source": [
    "for i in range(0,10,2):\n",
    "    print(i)"
   ]
  },
  {
   "cell_type": "code",
   "execution_count": 80,
   "metadata": {
    "collapsed": true
   },
   "outputs": [],
   "source": [
    "# write a for loop to squre for 10 numbers and add them"
   ]
  },
  {
   "cell_type": "code",
   "execution_count": 81,
   "metadata": {},
   "outputs": [
    {
     "name": "stdout",
     "output_type": "stream",
     "text": [
      "385\n"
     ]
    }
   ],
   "source": [
    "sum=0\n",
    "for i in range(1,11):\n",
    "    sum=sum+i**2\n",
    "print(sum)"
   ]
  },
  {
   "cell_type": "markdown",
   "metadata": {},
   "source": [
    "# List comprehensions"
   ]
  },
  {
   "cell_type": "markdown",
   "metadata": {},
   "source": [
    "### generating a list using for loop "
   ]
  },
  {
   "cell_type": "code",
   "execution_count": 85,
   "metadata": {
    "collapsed": true
   },
   "outputs": [],
   "source": [
    "one_to_ten=[i*2 for i in range(10)]"
   ]
  },
  {
   "cell_type": "code",
   "execution_count": 86,
   "metadata": {},
   "outputs": [
    {
     "data": {
      "text/plain": [
       "[0, 2, 4, 6, 8, 10, 12, 14, 16, 18]"
      ]
     },
     "execution_count": 86,
     "metadata": {},
     "output_type": "execute_result"
    }
   ],
   "source": [
    "one_to_ten"
   ]
  },
  {
   "cell_type": "code",
   "execution_count": 58,
   "metadata": {},
   "outputs": [
    {
     "data": {
      "text/plain": [
       "[0, 1, 2, 3, 4, 5, 6, 7, 8, 9]"
      ]
     },
     "execution_count": 58,
     "metadata": {},
     "output_type": "execute_result"
    }
   ],
   "source": [
    "# for this case even list() function would do\n",
    "list(range(10))"
   ]
  },
  {
   "cell_type": "code",
   "execution_count": 59,
   "metadata": {},
   "outputs": [
    {
     "data": {
      "text/plain": [
       "['India',\n",
       " 'Pakistan',\n",
       " 'Bangladesh',\n",
       " 'Sri Lanka',\n",
       " 'Australia',\n",
       " 'South Africa',\n",
       " 'West Indies',\n",
       " 'England']"
      ]
     },
     "execution_count": 59,
     "metadata": {},
     "output_type": "execute_result"
    }
   ],
   "source": [
    "list_of_countries"
   ]
  },
  {
   "cell_type": "code",
   "execution_count": 60,
   "metadata": {
    "collapsed": true
   },
   "outputs": [],
   "source": [
    "# copy the list_of_countries list to new list with out using for loop."
   ]
  },
  {
   "cell_type": "code",
   "execution_count": 61,
   "metadata": {
    "collapsed": true
   },
   "outputs": [],
   "source": [
    "new_list=[]\n",
    "for c in list_of_countries:\n",
    "    new_list.append(c)"
   ]
  },
  {
   "cell_type": "code",
   "execution_count": 62,
   "metadata": {},
   "outputs": [
    {
     "data": {
      "text/plain": [
       "True"
      ]
     },
     "execution_count": 62,
     "metadata": {},
     "output_type": "execute_result"
    }
   ],
   "source": [
    "# copied properly?\n",
    "list_of_countries==new_list"
   ]
  },
  {
   "cell_type": "code",
   "execution_count": 63,
   "metadata": {},
   "outputs": [
    {
     "name": "stdout",
     "output_type": "stream",
     "text": [
      "4335151944 4334357896\n"
     ]
    }
   ],
   "source": [
    "# both have different memory locations\n",
    "print(id(list_of_countries), id(new_list))"
   ]
  },
  {
   "cell_type": "code",
   "execution_count": 64,
   "metadata": {
    "collapsed": true
   },
   "outputs": [],
   "source": [
    "# same can be achieved using list comprehensions\n",
    "new_list2=[c for c in list_of_countries]  # a single liner"
   ]
  },
  {
   "cell_type": "code",
   "execution_count": 65,
   "metadata": {},
   "outputs": [
    {
     "data": {
      "text/plain": [
       "True"
      ]
     },
     "execution_count": 65,
     "metadata": {},
     "output_type": "execute_result"
    }
   ],
   "source": [
    "new_list2==new_list"
   ]
  },
  {
   "cell_type": "markdown",
   "metadata": {},
   "source": [
    "## conditional comprehensions"
   ]
  },
  {
   "cell_type": "code",
   "execution_count": 66,
   "metadata": {
    "collapsed": true
   },
   "outputs": [],
   "source": [
    "# we can even add conditional statements"
   ]
  },
  {
   "cell_type": "code",
   "execution_count": 67,
   "metadata": {},
   "outputs": [
    {
     "data": {
      "text/plain": [
       "[0, 2, 4, 6, 8]"
      ]
     },
     "execution_count": 67,
     "metadata": {},
     "output_type": "execute_result"
    }
   ],
   "source": [
    "even_numbers= [ i for i in range(10) if i%2==0]\n",
    "even_numbers"
   ]
  },
  {
   "cell_type": "code",
   "execution_count": 68,
   "metadata": {
    "collapsed": true
   },
   "outputs": [],
   "source": [
    "#what if we want to replace odd number with * and retain even numbers?"
   ]
  },
  {
   "cell_type": "code",
   "execution_count": 69,
   "metadata": {},
   "outputs": [
    {
     "data": {
      "text/plain": [
       "[0, '*', 2, '*', 4, '*', 6, '*', 8, '*']"
      ]
     },
     "execution_count": 69,
     "metadata": {},
     "output_type": "execute_result"
    }
   ],
   "source": [
    "[num  if num%2==0 else '*'  for num in range(10)]"
   ]
  },
  {
   "cell_type": "code",
   "execution_count": 87,
   "metadata": {},
   "outputs": [
    {
     "name": "stdout",
     "output_type": "stream",
     "text": [
      "The Zen of Python, by Tim Peters\n",
      "\n",
      "Beautiful is better than ugly.\n",
      "Explicit is better than implicit.\n",
      "Simple is better than complex.\n",
      "Complex is better than complicated.\n",
      "Flat is better than nested.\n",
      "Sparse is better than dense.\n",
      "Readability counts.\n",
      "Special cases aren't special enough to break the rules.\n",
      "Although practicality beats purity.\n",
      "Errors should never pass silently.\n",
      "Unless explicitly silenced.\n",
      "In the face of ambiguity, refuse the temptation to guess.\n",
      "There should be one-- and preferably only one --obvious way to do it.\n",
      "Although that way may not be obvious at first unless you're Dutch.\n",
      "Now is better than never.\n",
      "Although never is often better than *right* now.\n",
      "If the implementation is hard to explain, it's a bad idea.\n",
      "If the implementation is easy to explain, it may be a good idea.\n",
      "Namespaces are one honking great idea -- let's do more of those!\n"
     ]
    }
   ],
   "source": [
    "import this"
   ]
  },
  {
   "cell_type": "code",
   "execution_count": null,
   "metadata": {
    "collapsed": true
   },
   "outputs": [],
   "source": []
  }
 ],
 "metadata": {
  "kernelspec": {
   "display_name": "Python 3",
   "language": "python",
   "name": "python3"
  },
  "language_info": {
   "codemirror_mode": {
    "name": "ipython",
    "version": 3
   },
   "file_extension": ".py",
   "mimetype": "text/x-python",
   "name": "python",
   "nbconvert_exporter": "python",
   "pygments_lexer": "ipython3",
   "version": "3.6.1"
  }
 },
 "nbformat": 4,
 "nbformat_minor": 2
}
